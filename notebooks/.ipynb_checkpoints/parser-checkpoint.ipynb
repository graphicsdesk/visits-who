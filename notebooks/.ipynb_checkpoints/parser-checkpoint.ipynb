{
 "cells": [
  {
   "cell_type": "markdown",
   "metadata": {},
   "source": [
    "## Guiding questions\n",
    "\n",
    "Which locations does the Columbia Visits You program target?"
   ]
  },
  {
   "cell_type": "code",
   "execution_count": 133,
   "metadata": {},
   "outputs": [],
   "source": [
    "from bs4 import BeautifulSoup\n",
    "import requests\n",
    "import re"
   ]
  },
  {
   "cell_type": "code",
   "execution_count": 73,
   "metadata": {},
   "outputs": [],
   "source": [
    "ROOT = 'https://apply.college.columbia.edu/portal/register'"
   ]
  },
  {
   "cell_type": "code",
   "execution_count": 132,
   "metadata": {},
   "outputs": [],
   "source": [
    "# Open and parse an HTML file\n",
    "\n",
    "fname = 'events_2019-05-11T01:23:54.html'\n",
    "html = open('../documents/' + fname, 'r').read()\n",
    "soup = BeautifulSoup(html)\n",
    "\n",
    "# Find and store links to each region's events\n",
    "\n",
    "content = soup.find('div', {'id': 'content'}).form.div\n",
    "regions = content.find_all('ul')\n",
    "event_hrefs = []\n",
    "for region in regions:\n",
    "    events = region.find_all('li')\n",
    "    for event in events:\n",
    "        event_hrefs.append(ROOT + event.a['href'])"
   ]
  },
  {
   "cell_type": "code",
   "execution_count": 151,
   "metadata": {},
   "outputs": [],
   "source": [
    "LATLNG_REGEX = re.compile(r'center=([^%]*)%2c([^&]*)')\n",
    "\n",
    "def get_event_info(href):\n",
    "\n",
    "    # Create page soup and find event information\n",
    "    \n",
    "    request = requests.get(href)\n",
    "    request.raise_for_status()\n",
    "    soup = BeautifulSoup(request.content)\n",
    "    event = soup.find('div', {'id': 'content'}).form\n",
    "    \n",
    "    # Get date\n",
    "    \n",
    "    date = event.find('input', {'id': 'form_date'})['value']\n",
    "    \n",
    "    # Parse lat/lng of event from event map\n",
    "    \n",
    "    map_styles = event.find('div', {'id': 'map'})['style']\n",
    "    latlng = LATLNG_REGEX.search(map_styles)\n",
    "    lat = float(latlng.group(1))\n",
    "    lng = float(latlng.group(2))\n",
    "\n",
    "    return date, lat, lng"
   ]
  },
  {
   "cell_type": "code",
   "execution_count": 152,
   "metadata": {},
   "outputs": [
    {
     "data": {
      "text/plain": [
       "[('2019-06-05T19:00:00', 39.742, -75.548),\n",
       " ('2019-05-21T19:00:00', 38.925, -77.054),\n",
       " ('2019-06-02T14:00:00', 41.846, -87.953),\n",
       " ('2019-06-02T19:00:00', 41.88, -87.627),\n",
       " ('2019-06-05T19:00:00', 39.77, -86.159),\n",
       " ('2019-05-19T19:00:00', 39.287, -76.622),\n",
       " ('2019-05-20T19:00:00', 39.116, -77.196),\n",
       " ('2019-06-06T19:00:00', 42.332, -83.217),\n",
       " ('2019-06-03T19:00:00', 44.969, -93.351),\n",
       " ('2019-06-04T19:00:00', 38.664, -90.568),\n",
       " ('2019-06-04T19:00:00', 40.322, -74.601),\n",
       " ('2019-06-02T14:00:00', 40.808, -73.963),\n",
       " ('2019-06-02T19:00:00', 41.03, -73.76),\n",
       " ('2019-06-03T19:00:00', 40.803, -73.359),\n",
       " ('2019-06-06T19:00:00', 40.091, -75.37),\n",
       " ('2019-05-22T19:00:00', 38.913, -77.223),\n",
       " ('2019-05-23T19:00:00', 37.538, -77.441)]"
      ]
     },
     "execution_count": 152,
     "metadata": {},
     "output_type": "execute_result"
    }
   ],
   "source": [
    "[get_event_info(h) for h in event_hrefs]"
   ]
  }
 ],
 "metadata": {
  "kernelspec": {
   "display_name": "Python 3",
   "language": "python",
   "name": "python3"
  },
  "language_info": {
   "codemirror_mode": {
    "name": "ipython",
    "version": 3
   },
   "file_extension": ".py",
   "mimetype": "text/x-python",
   "name": "python",
   "nbconvert_exporter": "python",
   "pygments_lexer": "ipython3",
   "version": "3.7.0"
  }
 },
 "nbformat": 4,
 "nbformat_minor": 2
}
